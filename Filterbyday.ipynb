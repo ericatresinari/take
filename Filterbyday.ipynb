{
 "cells": [
  {
   "cell_type": "code",
   "execution_count": 1,
   "metadata": {},
   "outputs": [],
   "source": [
    "import pandas as pd\n",
    "import numpy as np\n",
    "from IPython.display import clear_output"
   ]
  },
  {
   "cell_type": "code",
   "execution_count": 4,
   "metadata": {},
   "outputs": [],
   "source": [
    "df = pd.read_csv('C:\\\\Users\\\\ericat\\\\Downloads\\\\Blip Users Navigation.csv', header = 2)"
   ]
  },
  {
   "cell_type": "code",
   "execution_count": 5,
   "metadata": {},
   "outputs": [
    {
     "data": {
      "text/html": [
       "<div>\n",
       "<style scoped>\n",
       "    .dataframe tbody tr th:only-of-type {\n",
       "        vertical-align: middle;\n",
       "    }\n",
       "\n",
       "    .dataframe tbody tr th {\n",
       "        vertical-align: top;\n",
       "    }\n",
       "\n",
       "    .dataframe thead th {\n",
       "        text-align: right;\n",
       "    }\n",
       "</style>\n",
       "<table border=\"1\" class=\"dataframe\">\n",
       "  <thead>\n",
       "    <tr style=\"text-align: right;\">\n",
       "      <th></th>\n",
       "      <th>Data</th>\n",
       "      <th>Usuario</th>\n",
       "      <th>Bot</th>\n",
       "      <th>EnviadaPor</th>\n",
       "      <th>Texto</th>\n",
       "      <th>FromIdentity</th>\n",
       "      <th>ToIdentity</th>\n",
       "      <th>CanalRemetente</th>\n",
       "      <th>CanalDestinatário</th>\n",
       "    </tr>\n",
       "  </thead>\n",
       "  <tbody>\n",
       "    <tr>\n",
       "      <th>0</th>\n",
       "      <td>5/16/2019 12:00:00 AM</td>\n",
       "      <td>IRENE</td>\n",
       "      <td>WppPrincipal [PROD]</td>\n",
       "      <td>Usuário</td>\n",
       "      <td>Boa noite,\\nComo habilitar o serviço de intern...</td>\n",
       "      <td>5521982822782@wa.gw.msging.net</td>\n",
       "      <td>wppprincipalprod@msging.net</td>\n",
       "      <td>WhatsApp</td>\n",
       "      <td>Msging</td>\n",
       "    </tr>\n",
       "    <tr>\n",
       "      <th>1</th>\n",
       "      <td>5/16/2019 12:00:01 AM</td>\n",
       "      <td>LINCOLN DE LIMA FERREIRA</td>\n",
       "      <td>WppPrincipal [PROD]</td>\n",
       "      <td>Usuário</td>\n",
       "      <td>Preciso que meu telefone faça ligação</td>\n",
       "      <td>5521981344776@wa.gw.msging.net</td>\n",
       "      <td>wppprincipalprod@msging.net</td>\n",
       "      <td>WhatsApp</td>\n",
       "      <td>Msging</td>\n",
       "    </tr>\n",
       "    <tr>\n",
       "      <th>2</th>\n",
       "      <td>5/16/2019 12:00:02 AM</td>\n",
       "      <td>IRENE</td>\n",
       "      <td>WppPrincipal [PROD]</td>\n",
       "      <td>Bot</td>\n",
       "      <td>Olá, tudo bem?</td>\n",
       "      <td>wppprincipalprod@msging.net</td>\n",
       "      <td>5521982822782@wa.gw.msging.net</td>\n",
       "      <td>Msging</td>\n",
       "      <td>WhatsApp</td>\n",
       "    </tr>\n",
       "    <tr>\n",
       "      <th>3</th>\n",
       "      <td>5/16/2019 12:00:03 AM</td>\n",
       "      <td>IRENE</td>\n",
       "      <td>WppPrincipal [PROD]</td>\n",
       "      <td>Bot</td>\n",
       "      <td>Percebi que o seu número do WhatsApp não está ...</td>\n",
       "      <td>wppprincipalprod@msging.net</td>\n",
       "      <td>5521982822782@wa.gw.msging.net</td>\n",
       "      <td>Msging</td>\n",
       "      <td>WhatsApp</td>\n",
       "    </tr>\n",
       "    <tr>\n",
       "      <th>4</th>\n",
       "      <td>5/16/2019 12:00:03 AM</td>\n",
       "      <td>LINCOLN DE LIMA FERREIRA</td>\n",
       "      <td>WppPrincipal [PROD]</td>\n",
       "      <td>Bot</td>\n",
       "      <td>Você pode acessar aqui essa informação ?? http...</td>\n",
       "      <td>wppprincipalprod@msging.net</td>\n",
       "      <td>5521981344776@wa.gw.msging.net</td>\n",
       "      <td>Msging</td>\n",
       "      <td>WhatsApp</td>\n",
       "    </tr>\n",
       "  </tbody>\n",
       "</table>\n",
       "</div>"
      ],
      "text/plain": [
       "                    Data                   Usuario                  Bot  \\\n",
       "0  5/16/2019 12:00:00 AM                     IRENE  WppPrincipal [PROD]   \n",
       "1  5/16/2019 12:00:01 AM  LINCOLN DE LIMA FERREIRA  WppPrincipal [PROD]   \n",
       "2  5/16/2019 12:00:02 AM                     IRENE  WppPrincipal [PROD]   \n",
       "3  5/16/2019 12:00:03 AM                     IRENE  WppPrincipal [PROD]   \n",
       "4  5/16/2019 12:00:03 AM  LINCOLN DE LIMA FERREIRA  WppPrincipal [PROD]   \n",
       "\n",
       "  EnviadaPor                                              Texto  \\\n",
       "0    Usuário  Boa noite,\\nComo habilitar o serviço de intern...   \n",
       "1    Usuário              Preciso que meu telefone faça ligação   \n",
       "2        Bot                                     Olá, tudo bem?   \n",
       "3        Bot  Percebi que o seu número do WhatsApp não está ...   \n",
       "4        Bot  Você pode acessar aqui essa informação ?? http...   \n",
       "\n",
       "                     FromIdentity                      ToIdentity  \\\n",
       "0  5521982822782@wa.gw.msging.net     wppprincipalprod@msging.net   \n",
       "1  5521981344776@wa.gw.msging.net     wppprincipalprod@msging.net   \n",
       "2     wppprincipalprod@msging.net  5521982822782@wa.gw.msging.net   \n",
       "3     wppprincipalprod@msging.net  5521982822782@wa.gw.msging.net   \n",
       "4     wppprincipalprod@msging.net  5521981344776@wa.gw.msging.net   \n",
       "\n",
       "  CanalRemetente CanalDestinatário  \n",
       "0       WhatsApp            Msging  \n",
       "1       WhatsApp            Msging  \n",
       "2         Msging          WhatsApp  \n",
       "3         Msging          WhatsApp  \n",
       "4         Msging          WhatsApp  "
      ]
     },
     "execution_count": 5,
     "metadata": {},
     "output_type": "execute_result"
    }
   ],
   "source": [
    "df.head()"
   ]
  },
  {
   "cell_type": "code",
   "execution_count": 6,
   "metadata": {},
   "outputs": [],
   "source": [
    "df_user_messages = df[df['EnviadaPor'].str.contains(\"Bot\")!=True]"
   ]
  },
  {
   "cell_type": "code",
   "execution_count": 7,
   "metadata": {},
   "outputs": [
    {
     "name": "stderr",
     "output_type": "stream",
     "text": [
      "C:\\ProgramData\\Anaconda3\\lib\\site-packages\\ipykernel_launcher.py:1: SettingWithCopyWarning: \n",
      "A value is trying to be set on a copy of a slice from a DataFrame.\n",
      "Try using .loc[row_indexer,col_indexer] = value instead\n",
      "\n",
      "See the caveats in the documentation: http://pandas.pydata.org/pandas-docs/stable/indexing.html#indexing-view-versus-copy\n",
      "  \"\"\"Entry point for launching an IPython kernel.\n",
      "C:\\ProgramData\\Anaconda3\\lib\\site-packages\\ipykernel_launcher.py:2: SettingWithCopyWarning: \n",
      "A value is trying to be set on a copy of a slice from a DataFrame.\n",
      "Try using .loc[row_indexer,col_indexer] = value instead\n",
      "\n",
      "See the caveats in the documentation: http://pandas.pydata.org/pandas-docs/stable/indexing.html#indexing-view-versus-copy\n",
      "  \n",
      "C:\\ProgramData\\Anaconda3\\lib\\site-packages\\ipykernel_launcher.py:3: SettingWithCopyWarning: \n",
      "A value is trying to be set on a copy of a slice from a DataFrame.\n",
      "Try using .loc[row_indexer,col_indexer] = value instead\n",
      "\n",
      "See the caveats in the documentation: http://pandas.pydata.org/pandas-docs/stable/indexing.html#indexing-view-versus-copy\n",
      "  This is separate from the ipykernel package so we can avoid doing imports until\n"
     ]
    }
   ],
   "source": [
    "df_user_messages['Date'] = pd.to_datetime(df_user_messages['Data'])\n",
    "df_user_messages['Data'] = df_user_messages['Date'].dt.date\n",
    "df_user_messages['Identity'] = df_user_messages['FromIdentity'].apply(lambda x: x.split('@')[0])"
   ]
  },
  {
   "cell_type": "code",
   "execution_count": 8,
   "metadata": {},
   "outputs": [],
   "source": [
    "dfs = []\n",
    "for val in  df_user_messages['Data'].unique():\n",
    "    dfs.append(df_user_messages[df_user_messages['Data']==val].drop_duplicates(subset=['Identity'], keep='first', inplace=False))\n"
   ]
  },
  {
   "cell_type": "code",
   "execution_count": 9,
   "metadata": {},
   "outputs": [],
   "source": [
    "result = pd.concat(dfs)"
   ]
  },
  {
   "cell_type": "code",
   "execution_count": 10,
   "metadata": {},
   "outputs": [
    {
     "data": {
      "text/plain": [
       "0         2019-05-16 00:00:00\n",
       "1         2019-05-16 00:00:01\n",
       "8         2019-05-16 00:00:22\n",
       "17        2019-05-16 00:00:43\n",
       "31        2019-05-16 00:01:09\n",
       "33        2019-05-16 00:01:27\n",
       "42        2019-05-16 00:03:14\n",
       "46        2019-05-16 00:03:31\n",
       "48        2019-05-16 00:03:36\n",
       "72        2019-05-16 00:04:26\n",
       "84        2019-05-16 00:05:16\n",
       "95        2019-05-16 00:05:54\n",
       "102       2019-05-16 00:06:18\n",
       "119       2019-05-16 00:06:48\n",
       "144       2019-05-16 00:07:24\n",
       "150       2019-05-16 00:07:35\n",
       "183       2019-05-16 00:08:31\n",
       "187       2019-05-16 00:08:36\n",
       "191       2019-05-16 00:08:49\n",
       "193       2019-05-16 00:08:51\n",
       "201       2019-05-16 00:09:34\n",
       "238       2019-05-16 00:10:39\n",
       "241       2019-05-16 00:10:42\n",
       "260       2019-05-16 00:11:30\n",
       "269       2019-05-16 00:11:44\n",
       "282       2019-05-16 00:11:55\n",
       "335       2019-05-16 00:12:57\n",
       "365       2019-05-16 00:13:47\n",
       "383       2019-05-16 00:14:07\n",
       "392       2019-05-16 00:14:27\n",
       "                  ...        \n",
       "1032812   2019-05-28 08:55:33\n",
       "1032821   2019-05-28 08:55:38\n",
       "1032837   2019-05-28 08:55:49\n",
       "1032840   2019-05-28 08:55:51\n",
       "1032842   2019-05-28 08:55:51\n",
       "1032843   2019-05-28 08:55:52\n",
       "1032857   2019-05-28 08:56:00\n",
       "1032899   2019-05-28 08:56:29\n",
       "1032936   2019-05-28 08:56:50\n",
       "1032966   2019-05-28 08:57:13\n",
       "1032970   2019-05-28 08:57:18\n",
       "1032977   2019-05-28 08:57:24\n",
       "1032984   2019-05-28 08:57:26\n",
       "1033005   2019-05-28 08:57:43\n",
       "1033010   2019-05-28 08:57:44\n",
       "1033051   2019-05-28 08:58:08\n",
       "1033057   2019-05-28 08:58:12\n",
       "1033063   2019-05-28 08:58:16\n",
       "1033071   2019-05-28 08:58:24\n",
       "1033098   2019-05-28 08:58:49\n",
       "1033119   2019-05-28 08:59:08\n",
       "1033120   2019-05-28 08:59:09\n",
       "1033124   2019-05-28 08:59:13\n",
       "1033126   2019-05-28 08:59:14\n",
       "1033136   2019-05-28 08:59:19\n",
       "1033137   2019-05-28 08:59:20\n",
       "1033140   2019-05-28 08:59:20\n",
       "1033156   2019-05-28 08:59:41\n",
       "1033184   2019-05-28 08:59:56\n",
       "1033186   2019-05-28 08:59:58\n",
       "Name: Date, Length: 74767, dtype: datetime64[ns]"
      ]
     },
     "execution_count": 10,
     "metadata": {},
     "output_type": "execute_result"
    }
   ],
   "source": [
    "result['Date']"
   ]
  },
  {
   "cell_type": "code",
   "execution_count": 12,
   "metadata": {},
   "outputs": [],
   "source": [
    "result[['Date','Identity']].to_csv('C:\\\\Users\\\\ericat\\\\Downloads\\\\maio2.csv')"
   ]
  },
  {
   "cell_type": "code",
   "execution_count": null,
   "metadata": {},
   "outputs": [],
   "source": []
  }
 ],
 "metadata": {
  "kernelspec": {
   "display_name": "Python 3",
   "language": "python",
   "name": "python3"
  },
  "language_info": {
   "codemirror_mode": {
    "name": "ipython",
    "version": 3
   },
   "file_extension": ".py",
   "mimetype": "text/x-python",
   "name": "python",
   "nbconvert_exporter": "python",
   "pygments_lexer": "ipython3",
   "version": "3.7.1"
  }
 },
 "nbformat": 4,
 "nbformat_minor": 2
}
